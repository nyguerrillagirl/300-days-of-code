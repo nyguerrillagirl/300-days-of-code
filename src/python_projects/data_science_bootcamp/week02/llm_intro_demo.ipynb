{
 "cells": [
  {
   "cell_type": "markdown",
   "id": "6782be9f-7d8d-4097-86a9-cfb32cc9881b",
   "metadata": {},
   "source": [
    "# LLM Demo Notebook\n"
   ]
  },
  {
   "cell_type": "markdown",
   "id": "2e25f1ff-84c4-4144-888a-4f0e8d830a94",
   "metadata": {},
   "source": [
    "## Getting Setup\n",
    "\n",
    "You can run this notebook on the Jupyter Hub machines but you will need to setup an OpenAI account.  Alternatively, if you are running on your own computer you can also try to run a model locally."
   ]
  },
  {
   "cell_type": "markdown",
   "id": "b4bbdbaa-902d-4687-867a-a18e416b5fa4",
   "metadata": {},
   "source": [
    "### Step 1. Create an OpenAI account\n",
    "\n",
    "You can create a free account which has some initial free credits by going here:\n",
    "\n",
    "https://platform.openai.com"
   ]
  },
  {
   "cell_type": "markdown",
   "id": "912e12bc-e383-47a8-812f-6b28bf898feb",
   "metadata": {},
   "source": [
    "You will the need to get an API Key.  Save that api key to a local file called `openai.key`:"
   ]
  },
  {
   "cell_type": "code",
   "execution_count": 1,
   "id": "7944a9ca-5840-4855-aa23-eeed62052a60",
   "metadata": {
    "tags": []
   },
   "outputs": [],
   "source": [
    "# with open(\"openai.key\", \"w\") as f:\n",
    "#     f.write(\"sk-zPutYourkeyHereYJ\")"
   ]
  },
  {
   "cell_type": "code",
   "execution_count": 2,
   "id": "b72f56b6-197d-4905-8100-8deec98fd5b8",
   "metadata": {},
   "outputs": [],
   "source": [
    "openai_key = open(\"openai.key\", \"r\").readline()"
   ]
  },
  {
   "cell_type": "markdown",
   "id": "8d248919-629b-4625-912e-7b621793e4a7",
   "metadata": {},
   "source": [
    "### Step 2. Install Python Tools\n",
    "\n",
    "Uncomment the following line. "
   ]
  },
  {
   "cell_type": "code",
   "execution_count": 3,
   "id": "d5ea34f6-4593-4b0b-9682-ebfbcaf1c7ff",
   "metadata": {
    "tags": []
   },
   "outputs": [],
   "source": [
    "#!pip install openai langchain"
   ]
  },
  {
   "cell_type": "code",
   "execution_count": 4,
   "id": "0bc7d169-28aa-4438-9e4b-838891cc4891",
   "metadata": {},
   "outputs": [
    {
     "data": {
      "text/plain": [
       "ChatCompletion(id='chatcmpl-8iaqMA8ouHlfBXFgweahpfkpEbmpz', choices=[Choice(finish_reason='stop', index=0, logprobs=None, message=ChatCompletionMessage(content='The capital of California is Sacramento.', role='assistant', function_call=None, tool_calls=None))], created=1705638750, model='gpt-3.5-turbo-0613', object='chat.completion', system_fingerprint=None, usage=CompletionUsage(completion_tokens=7, prompt_tokens=14, total_tokens=21))"
      ]
     },
     "execution_count": 4,
     "metadata": {},
     "output_type": "execute_result"
    }
   ],
   "source": [
    "from openai import OpenAI\n",
    "\n",
    "client = OpenAI(api_key=openai_key)\n",
    "chat_completion = client.chat.completions.create(\n",
    "    messages=[\n",
    "        {\n",
    "            \"role\": \"user\",\n",
    "            \"content\": \"What is the capital of California?\",\n",
    "        }\n",
    "    ],\n",
    "    model=\"gpt-3.5-turbo\", temperature=0\n",
    ")\n",
    "chat_completion"
   ]
  },
  {
   "cell_type": "markdown",
   "id": "64d512ef-d75f-49f4-ac20-cea62c54588a",
   "metadata": {},
   "source": [
    "## Using OpenAI with LangChain"
   ]
  },
  {
   "cell_type": "code",
   "execution_count": 5,
   "id": "cfed934f-a077-4c2e-8671-f1bc344b067a",
   "metadata": {
    "tags": []
   },
   "outputs": [
    {
     "name": "stderr",
     "output_type": "stream",
     "text": [
      "/opt/homebrew/Caskroom/mambaforge/base/envs/py_3_11/lib/python3.11/site-packages/langchain_core/_api/deprecation.py:117: LangChainDeprecationWarning: The class `langchain_community.llms.openai.OpenAI` was deprecated in langchain-community 0.0.10 and will be removed in 0.2.0. An updated version of the class exists in the langchain-openai package and should be used instead. To use it run `pip install -U langchain-openai` and import as `from langchain_openai import OpenAI`.\n",
      "  warn_deprecated(\n"
     ]
    }
   ],
   "source": [
    "from langchain.llms import OpenAI\n",
    "llm = OpenAI(openai_api_key=openai_key,\n",
    "             model=\"gpt-3.5-turbo-instruct\", \n",
    "             #temperature=0, \n",
    "             max_tokens=512)"
   ]
  },
  {
   "cell_type": "code",
   "execution_count": 6,
   "id": "8193f069-8736-42b6-944e-38d73f0d35bf",
   "metadata": {
    "tags": []
   },
   "outputs": [
    {
     "name": "stderr",
     "output_type": "stream",
     "text": [
      "/opt/homebrew/Caskroom/mambaforge/base/envs/py_3_11/lib/python3.11/site-packages/langchain_core/_api/deprecation.py:117: LangChainDeprecationWarning: The function `__call__` was deprecated in LangChain 0.1.7 and will be removed in 0.2.0. Use invoke instead.\n",
      "  warn_deprecated(\n"
     ]
    },
    {
     "data": {
      "text/plain": [
       "'\\n\\nSacramento'"
      ]
     },
     "execution_count": 6,
     "metadata": {},
     "output_type": "execute_result"
    }
   ],
   "source": [
    "llm(\"What is the capital of California? Provide a short answer.\")"
   ]
  },
  {
   "cell_type": "code",
   "execution_count": 7,
   "id": "fc879bf9-6463-4c13-80fe-a2046c4489f8",
   "metadata": {
    "tags": []
   },
   "outputs": [
    {
     "name": "stdout",
     "output_type": "stream",
     "text": [
      "\n",
      "\n",
      "Verse 1:\n",
      "Data science, it's the key\n",
      "To unlock the mysteries\n",
      "Of the world we see\n",
      "With numbers and algorithms\n",
      "\n",
      "Chorus:\n",
      "Large language models, they can speak\n",
      "With human-like complexity\n",
      "They learn from data, endlessly\n",
      "To help us understand our reality\n",
      "\n",
      "Verse 2:\n",
      "Gathering data, from every source\n",
      "We analyze and make it work\n",
      "To find patterns, and insights\n",
      "That open up new worlds for our eyes\n",
      "\n",
      "Chorus:\n",
      "Large language models, they can speak\n",
      "With human-like complexity\n",
      "They learn from data, endlessly\n",
      "To help us understand our reality\n",
      "\n",
      "Bridge:\n",
      "From chatbots to translation\n",
      "They can handle any conversation\n",
      "With endless possibilities\n",
      "Data science and language models, a perfect harmony\n",
      "\n",
      "Chorus:\n",
      "Large language models, they can speak\n",
      "With human-like complexity\n",
      "They learn from data, endlessly\n",
      "To help us understand our reality\n",
      "\n",
      "Outro:\n",
      "Data science and large language models\n",
      "Together, they'll take us far\n",
      "Unlocking the secrets of the world\n",
      "With every data point, we'll reach for the stars."
     ]
    }
   ],
   "source": [
    "for chunk in llm.stream(\"Write a short song about data science and large language models.\"):\n",
    "    print(chunk, end=\"\", flush=True)"
   ]
  },
  {
   "cell_type": "markdown",
   "id": "aca19c5b-37ea-4ba6-b365-996433badb5a",
   "metadata": {
    "tags": []
   },
   "source": [
    "## Running Locally with Ollama and LangChain\n",
    "You can download and install Ollama from:\n",
    "\n",
    "https://ollama.ai/download\n",
    "\n",
    "This will run models locally"
   ]
  },
  {
   "cell_type": "code",
   "execution_count": 8,
   "id": "3ce1708d-ff84-4fb7-bd6a-1e5deae119c8",
   "metadata": {
    "tags": []
   },
   "outputs": [],
   "source": [
    "from langchain.llms import Ollama\n",
    "from langchain.callbacks.manager import CallbackManager\n",
    "from langchain.callbacks.streaming_stdout import StreamingStdOutCallbackHandler\n",
    "vicuna = Ollama(\n",
    "    model=\"vicuna:7b\", \n",
    "    #temperature=0,\n",
    "    callback_manager=CallbackManager([StreamingStdOutCallbackHandler()])\n",
    ")"
   ]
  },
  {
   "cell_type": "code",
   "execution_count": 9,
   "id": "6fc9f909-25b6-435b-ab24-e8430606f4f2",
   "metadata": {
    "tags": []
   },
   "outputs": [
    {
     "name": "stdout",
     "output_type": "stream",
     "text": [
      "\n",
      "Sacramento"
     ]
    },
    {
     "data": {
      "text/plain": [
       "'\\nSacramento'"
      ]
     },
     "execution_count": 9,
     "metadata": {},
     "output_type": "execute_result"
    }
   ],
   "source": [
    "vicuna(\"What is the capital of California? Answer with only one word.\")"
   ]
  },
  {
   "cell_type": "code",
   "execution_count": 10,
   "id": "33244d76-8750-4ff9-a291-dfc74ee6e5f1",
   "metadata": {
    "tags": []
   },
   "outputs": [
    {
     "name": "stdout",
     "output_type": "stream",
     "text": [
      "Data science is the name of the game\n",
      "Big data's the target, we aim for fame\n",
      "With machine learning algorithms we create\n",
      "New insights and knowledge, it's what we're great\n",
      "\n",
      "Large language models are our tools of choice\n",
      "They help us process and analyze with ease\n",
      "From natural language processing to computer vision\n",
      "We use them all to gain new perspectives\n",
      "\n",
      "With Python and R, we code and we test\n",
      "To build models that are the best\n",
      "We train and we tweak until we're satisfied\n",
      "Our data science skills, they never lack in quality\n",
      "\n",
      "So here's to data science, it's our passion\n",
      "Helping us make sense of all the information we can access with haste\n",
      "Large language models, they help us achieve\n",
      "The insights we need to solve and improve and perceive."
     ]
    },
    {
     "data": {
      "text/plain": [
       "\"Data science is the name of the game\\nBig data's the target, we aim for fame\\nWith machine learning algorithms we create\\nNew insights and knowledge, it's what we're great\\n\\nLarge language models are our tools of choice\\nThey help us process and analyze with ease\\nFrom natural language processing to computer vision\\nWe use them all to gain new perspectives\\n\\nWith Python and R, we code and we test\\nTo build models that are the best\\nWe train and we tweak until we're satisfied\\nOur data science skills, they never lack in quality\\n\\nSo here's to data science, it's our passion\\nHelping us make sense of all the information we can access with haste\\nLarge language models, they help us achieve\\nThe insights we need to solve and improve and perceive.\""
      ]
     },
     "execution_count": 10,
     "metadata": {},
     "output_type": "execute_result"
    }
   ],
   "source": [
    "vicuna(\"Write a short song about data science and large language models.\")"
   ]
  },
  {
   "cell_type": "markdown",
   "id": "78c9a56d-3b1a-45e8-9d02-1afa9e86f22f",
   "metadata": {},
   "source": [
    "<br><br><br><br><br>\n",
    "\n",
    "## Data Analytics\n",
    "\n",
    "We can use LLMs to help in analyzing data"
   ]
  },
  {
   "cell_type": "code",
   "execution_count": 11,
   "id": "19d600f2-fd5a-4a73-9182-f5696f0c4f97",
   "metadata": {
    "tags": []
   },
   "outputs": [
    {
     "data": {
      "text/plain": [
       "['RT @RepEscobar: Our country has the moral obligation and responsibility to reunite every single family separated at the southern border.\\n\\nT…',\n",
       " 'RT @RoKhanna: What happens when we guarantee $15/hour?\\n\\n💰 31% of Black workers and 26% of Latinx workers get raises.\\n😷 A majority of essent…',\n",
       " '(Source: https://t.co/3o5JEr6zpd)',\n",
       " 'Joe Cunningham pledged to never take corporate PAC money, and he never did. Mace said she’ll cash every check she gets. Yet another way this is a downgrade. https://t.co/DytsQXKXgU',\n",
       " 'What’s even more gross is that Mace takes corporate PAC money.\\n\\nShe’s already funded by corporations. Now she’s choosing to swindle working people on top of it.\\n\\nPeak scam artistry. Caps for cash 💰 https://t.co/CcVxgDF6id',\n",
       " 'Joe Cunningham already proving to be leagues more decent + honest than Mace seems capable of.\\n\\nThe House was far better off w/ Cunningham. It’s sad to see Mace diminish the representation of her community by launching a reputation of craven dishonesty right off the bat.',\n",
       " 'Pretty horrible.\\n\\nWell, it’s good to know what kind of person she is early. Also good to know that Mace is cut from the same Trump cloth of dishonesty and opportunism.\\n\\nSad to see a colleague intentionally hurt other women and survivors to make a buck. Thought she’d be better. https://t.co/CcVxgDF6id',\n",
       " 'RT @jaketapper: .@RepNancyMace fundraising off the false smear that @AOC misrepresented her experience during the insurrection. She didn’t.…',\n",
       " 'RT @RepMcGovern: One reason Washington can’t “come together” is because of people like her sending out emails like this.\\n\\nShe should apolog…',\n",
       " 'RT @JoeNeguse: Just to be clear, “targeting” stimulus checks means denying them to some working families who would otherwise receive them.']"
      ]
     },
     "execution_count": 11,
     "metadata": {},
     "output_type": "execute_result"
    }
   ],
   "source": [
    "import pandas as pd\n",
    "tweets = pd.read_json(\"AOC_recent_tweets.txt\")\n",
    "list(tweets['full_text'][0:10])"
   ]
  },
  {
   "cell_type": "markdown",
   "id": "8bc749e6-7354-4322-92d7-27e3991cfdf7",
   "metadata": {},
   "source": [
    "<br><br><br>\n",
    "Suppose I wanted to evaluate whether a tweet is attacking someone"
   ]
  },
  {
   "cell_type": "code",
   "execution_count": 12,
   "id": "f98fd232-f266-4d39-81bc-e07f303c3454",
   "metadata": {
    "tags": []
   },
   "outputs": [],
   "source": [
    "prompt = \"\"\"\n",
    "Is the following text making a statement about minimum wage? You should answer either Yes or No.\n",
    "\n",
    "{text}\n",
    "\n",
    "Answer:\n",
    "\"\"\"\n",
    "questions = [prompt.format_map(dict(text=t)) for t in tweets['full_text'].head(20)]"
   ]
  },
  {
   "cell_type": "markdown",
   "id": "6e0a07bc-f415-457d-ab4e-65fb4d226d90",
   "metadata": {},
   "source": [
    "Ask each of the LLMs to answer the questions:"
   ]
  },
  {
   "cell_type": "code",
   "execution_count": 13,
   "id": "a4bd273a-f007-4ffb-82de-36a6c6a3c2d8",
   "metadata": {
    "tags": []
   },
   "outputs": [
    {
     "data": {
      "text/plain": [
       "['\\nYes',\n",
       " 'Yes',\n",
       " '\\nNo',\n",
       " '\\nNo',\n",
       " 'No',\n",
       " '\\nNo',\n",
       " '\\nNo',\n",
       " 'No',\n",
       " '\\nNo',\n",
       " '\\nYes',\n",
       " '\\nNo',\n",
       " '\\nYes',\n",
       " '\\nYes',\n",
       " '\\nNo',\n",
       " '\\nNo',\n",
       " '\\nYes',\n",
       " '\\nNo',\n",
       " '\\nNo',\n",
       " '\\nYes',\n",
       " '\\nNo']"
      ]
     },
     "execution_count": 13,
     "metadata": {},
     "output_type": "execute_result"
    }
   ],
   "source": [
    "open_ai_answers = llm.batch(questions)\n",
    "open_ai_answers"
   ]
  },
  {
   "cell_type": "code",
   "execution_count": 14,
   "id": "9327cd70-e9b3-41b5-9d18-c4f61d918764",
   "metadata": {
    "tags": []
   },
   "outputs": [
    {
     "name": "stdout",
     "output_type": "stream",
     "text": [
      "No.No.Yes.No.No.No.Yes.No.Yes.\n",
      "No.Yes.No.No.Yes.No.No.No.Yes.No.Yes."
     ]
    },
    {
     "data": {
      "text/plain": [
       "['No.',\n",
       " 'No.',\n",
       " 'Yes.',\n",
       " 'No.',\n",
       " 'No.',\n",
       " 'No.',\n",
       " 'Yes.',\n",
       " 'No.',\n",
       " 'Yes.',\n",
       " '\\nNo.',\n",
       " 'Yes.',\n",
       " 'No.',\n",
       " 'No.',\n",
       " 'Yes.',\n",
       " 'No.',\n",
       " 'No.',\n",
       " 'No.',\n",
       " 'Yes.',\n",
       " 'No.',\n",
       " 'Yes.']"
      ]
     },
     "execution_count": 14,
     "metadata": {},
     "output_type": "execute_result"
    }
   ],
   "source": [
    "vicuna_answers = vicuna.batch(questions)\n",
    "vicuna_answers"
   ]
  },
  {
   "cell_type": "code",
   "execution_count": 15,
   "id": "2c74df98-8fbd-419a-ad8a-a4a5ce83665b",
   "metadata": {
    "tags": []
   },
   "outputs": [
    {
     "data": {
      "text/html": [
       "<div>\n",
       "<style scoped>\n",
       "    .dataframe tbody tr th:only-of-type {\n",
       "        vertical-align: middle;\n",
       "    }\n",
       "\n",
       "    .dataframe tbody tr th {\n",
       "        vertical-align: top;\n",
       "    }\n",
       "\n",
       "    .dataframe thead th {\n",
       "        text-align: right;\n",
       "    }\n",
       "</style>\n",
       "<table border=\"1\" class=\"dataframe\">\n",
       "  <thead>\n",
       "    <tr style=\"text-align: right;\">\n",
       "      <th></th>\n",
       "      <th>OpenAI</th>\n",
       "      <th>Vicuna</th>\n",
       "      <th>Text</th>\n",
       "    </tr>\n",
       "  </thead>\n",
       "  <tbody>\n",
       "    <tr>\n",
       "      <th>0</th>\n",
       "      <td>True</td>\n",
       "      <td>False</td>\n",
       "      <td>RT @RepEscobar: Our country has the moral obligation and responsibility to reunite every single family separated at the southern border.\\n\\nT…</td>\n",
       "    </tr>\n",
       "    <tr>\n",
       "      <th>1</th>\n",
       "      <td>True</td>\n",
       "      <td>False</td>\n",
       "      <td>RT @RoKhanna: What happens when we guarantee $15/hour?\\n\\n💰 31% of Black workers and 26% of Latinx workers get raises.\\n😷 A majority of essent…</td>\n",
       "    </tr>\n",
       "    <tr>\n",
       "      <th>2</th>\n",
       "      <td>False</td>\n",
       "      <td>True</td>\n",
       "      <td>(Source: https://t.co/3o5JEr6zpd)</td>\n",
       "    </tr>\n",
       "    <tr>\n",
       "      <th>3</th>\n",
       "      <td>False</td>\n",
       "      <td>False</td>\n",
       "      <td>Joe Cunningham pledged to never take corporate PAC money, and he never did. Mace said she’ll cash every check she gets. Yet another way this is a downgrade. https://t.co/DytsQXKXgU</td>\n",
       "    </tr>\n",
       "    <tr>\n",
       "      <th>4</th>\n",
       "      <td>False</td>\n",
       "      <td>False</td>\n",
       "      <td>What’s even more gross is that Mace takes corporate PAC money.\\n\\nShe’s already funded by corporations. Now she’s choosing to swindle working people on top of it.\\n\\nPeak scam artistry. Caps for cash 💰 https://t.co/CcVxgDF6id</td>\n",
       "    </tr>\n",
       "    <tr>\n",
       "      <th>5</th>\n",
       "      <td>False</td>\n",
       "      <td>False</td>\n",
       "      <td>Joe Cunningham already proving to be leagues more decent + honest than Mace seems capable of.\\n\\nThe House was far better off w/ Cunningham. It’s sad to see Mace diminish the representation of her community by launching a reputation of craven dishonesty right off the bat.</td>\n",
       "    </tr>\n",
       "    <tr>\n",
       "      <th>6</th>\n",
       "      <td>False</td>\n",
       "      <td>True</td>\n",
       "      <td>Pretty horrible.\\n\\nWell, it’s good to know what kind of person she is early. Also good to know that Mace is cut from the same Trump cloth of dishonesty and opportunism.\\n\\nSad to see a colleague intentionally hurt other women and survivors to make a buck. Thought she’d be better. https://t.co/CcVxgDF6id</td>\n",
       "    </tr>\n",
       "    <tr>\n",
       "      <th>7</th>\n",
       "      <td>False</td>\n",
       "      <td>False</td>\n",
       "      <td>RT @jaketapper: .@RepNancyMace fundraising off the false smear that @AOC misrepresented her experience during the insurrection. She didn’t.…</td>\n",
       "    </tr>\n",
       "    <tr>\n",
       "      <th>8</th>\n",
       "      <td>False</td>\n",
       "      <td>True</td>\n",
       "      <td>RT @RepMcGovern: One reason Washington can’t “come together” is because of people like her sending out emails like this.\\n\\nShe should apolog…</td>\n",
       "    </tr>\n",
       "    <tr>\n",
       "      <th>9</th>\n",
       "      <td>True</td>\n",
       "      <td>False</td>\n",
       "      <td>RT @JoeNeguse: Just to be clear, “targeting” stimulus checks means denying them to some working families who would otherwise receive them.</td>\n",
       "    </tr>\n",
       "    <tr>\n",
       "      <th>10</th>\n",
       "      <td>False</td>\n",
       "      <td>True</td>\n",
       "      <td>Amazon workers have the right to form a union.\\n\\nAnti-union tactics like these, especially from a trillion-dollar company trying to disrupt essential workers from organizing for better wages and dignified working conditions in a pandemic, are wrong. https://t.co/nTDqMUapYs</td>\n",
       "    </tr>\n",
       "    <tr>\n",
       "      <th>11</th>\n",
       "      <td>True</td>\n",
       "      <td>False</td>\n",
       "      <td>RT @WorkingFamilies: Voters elected Democrats to deliver more relief, not less.</td>\n",
       "    </tr>\n",
       "    <tr>\n",
       "      <th>12</th>\n",
       "      <td>True</td>\n",
       "      <td>False</td>\n",
       "      <td>We should preserve what was there and not peg it to outdated 2019 income. People need help!</td>\n",
       "    </tr>\n",
       "    <tr>\n",
       "      <th>13</th>\n",
       "      <td>False</td>\n",
       "      <td>True</td>\n",
       "      <td>If conservative Senate Dems institute a lower income threshold in the next round of checks, that could potentially mean the first round of checks under Trump help more people than the first round under Biden.\\n\\nDo we want to do that? No? Then let’s stop playing &amp;amp; just help people.</td>\n",
       "    </tr>\n",
       "    <tr>\n",
       "      <th>14</th>\n",
       "      <td>False</td>\n",
       "      <td>False</td>\n",
       "      <td>@iamjoshfitz 😂 call your member of Congress, they can help track it down</td>\n",
       "    </tr>\n",
       "    <tr>\n",
       "      <th>15</th>\n",
       "      <td>True</td>\n",
       "      <td>False</td>\n",
       "      <td>All Dems need for the slam dunk is to do what people elected us to do: help as many people as possible.\\n\\nIt’s not hard. Let’s not screw it up with austerity nonsense that squeezes the working class yet never makes a peep when tax cuts for yachts and private jets are proposed.</td>\n",
       "    </tr>\n",
       "    <tr>\n",
       "      <th>16</th>\n",
       "      <td>False</td>\n",
       "      <td>False</td>\n",
       "      <td>It should be $2000 to begin w/ anyway. Brutally means-testing a $1400 round is going to hurt so many people. THAT is the risk we can’t afford.\\n\\nIncome thresholds already work in reverse &amp;amp; lag behind reality. Conservative Dems can ask to tax $ back later if they’re so concerned.</td>\n",
       "    </tr>\n",
       "    <tr>\n",
       "      <th>17</th>\n",
       "      <td>False</td>\n",
       "      <td>True</td>\n",
       "      <td>We cannot cut off relief at $50k. It is shockingly out of touch to assert that $50k is “too wealthy” to receive relief.\\n\\nMillions are on the brink of eviction. Give too little and they’re devastated. Give “too much” and a single mom might save for a rainy day. This isn’t hard. https://t.co/o14r3phJeH</td>\n",
       "    </tr>\n",
       "    <tr>\n",
       "      <th>18</th>\n",
       "      <td>True</td>\n",
       "      <td>False</td>\n",
       "      <td>Imagine being a policymaker in Washington, having witnessed the massive economic, social, and health destruction over the last year, and think that the greatest policy risk we face is providing *too much* relief.\\n\\nSounds silly, right?\\n\\n$1.9T should be a floor, not a ceiling.</td>\n",
       "    </tr>\n",
       "    <tr>\n",
       "      <th>19</th>\n",
       "      <td>False</td>\n",
       "      <td>True</td>\n",
       "      <td>@AndrewYang @TweetBenMax @RitchieTorres Thanks @AndrewYang! Happy to chat about the plan details and the community effort that’s gone into this legislation. 🌃🌎</td>\n",
       "    </tr>\n",
       "  </tbody>\n",
       "</table>\n",
       "</div>"
      ],
      "text/plain": [
       "    OpenAI  Vicuna  \\\n",
       "0     True   False   \n",
       "1     True   False   \n",
       "2    False    True   \n",
       "3    False   False   \n",
       "4    False   False   \n",
       "5    False   False   \n",
       "6    False    True   \n",
       "7    False   False   \n",
       "8    False    True   \n",
       "9     True   False   \n",
       "10   False    True   \n",
       "11    True   False   \n",
       "12    True   False   \n",
       "13   False    True   \n",
       "14   False   False   \n",
       "15    True   False   \n",
       "16   False   False   \n",
       "17   False    True   \n",
       "18    True   False   \n",
       "19   False    True   \n",
       "\n",
       "                                                                                                                                                                                                                                                                                                                 Text  \n",
       "0                                                                                                                                                                      RT @RepEscobar: Our country has the moral obligation and responsibility to reunite every single family separated at the southern border.\\n\\nT…  \n",
       "1                                                                                                                                                                     RT @RoKhanna: What happens when we guarantee $15/hour?\\n\\n💰 31% of Black workers and 26% of Latinx workers get raises.\\n😷 A majority of essent…  \n",
       "2                                                                                                                                                                                                                                                                                   (Source: https://t.co/3o5JEr6zpd)  \n",
       "3                                                                                                                                Joe Cunningham pledged to never take corporate PAC money, and he never did. Mace said she’ll cash every check she gets. Yet another way this is a downgrade. https://t.co/DytsQXKXgU  \n",
       "4                                                                                   What’s even more gross is that Mace takes corporate PAC money.\\n\\nShe’s already funded by corporations. Now she’s choosing to swindle working people on top of it.\\n\\nPeak scam artistry. Caps for cash 💰 https://t.co/CcVxgDF6id  \n",
       "5                                    Joe Cunningham already proving to be leagues more decent + honest than Mace seems capable of.\\n\\nThe House was far better off w/ Cunningham. It’s sad to see Mace diminish the representation of her community by launching a reputation of craven dishonesty right off the bat.  \n",
       "6   Pretty horrible.\\n\\nWell, it’s good to know what kind of person she is early. Also good to know that Mace is cut from the same Trump cloth of dishonesty and opportunism.\\n\\nSad to see a colleague intentionally hurt other women and survivors to make a buck. Thought she’d be better. https://t.co/CcVxgDF6id  \n",
       "7                                                                                                                                                                        RT @jaketapper: .@RepNancyMace fundraising off the false smear that @AOC misrepresented her experience during the insurrection. She didn’t.…  \n",
       "8                                                                                                                                                                      RT @RepMcGovern: One reason Washington can’t “come together” is because of people like her sending out emails like this.\\n\\nShe should apolog…  \n",
       "9                                                                                                                                                                          RT @JoeNeguse: Just to be clear, “targeting” stimulus checks means denying them to some working families who would otherwise receive them.  \n",
       "10                                 Amazon workers have the right to form a union.\\n\\nAnti-union tactics like these, especially from a trillion-dollar company trying to disrupt essential workers from organizing for better wages and dignified working conditions in a pandemic, are wrong. https://t.co/nTDqMUapYs  \n",
       "11                                                                                                                                                                                                                                    RT @WorkingFamilies: Voters elected Democrats to deliver more relief, not less.  \n",
       "12                                                                                                                                                                                                                        We should preserve what was there and not peg it to outdated 2019 income. People need help!  \n",
       "13                     If conservative Senate Dems institute a lower income threshold in the next round of checks, that could potentially mean the first round of checks under Trump help more people than the first round under Biden.\\n\\nDo we want to do that? No? Then let’s stop playing &amp; just help people.  \n",
       "14                                                                                                                                                                                                                                           @iamjoshfitz 😂 call your member of Congress, they can help track it down  \n",
       "15                             All Dems need for the slam dunk is to do what people elected us to do: help as many people as possible.\\n\\nIt’s not hard. Let’s not screw it up with austerity nonsense that squeezes the working class yet never makes a peep when tax cuts for yachts and private jets are proposed.  \n",
       "16                       It should be $2000 to begin w/ anyway. Brutally means-testing a $1400 round is going to hurt so many people. THAT is the risk we can’t afford.\\n\\nIncome thresholds already work in reverse &amp; lag behind reality. Conservative Dems can ask to tax $ back later if they’re so concerned.  \n",
       "17    We cannot cut off relief at $50k. It is shockingly out of touch to assert that $50k is “too wealthy” to receive relief.\\n\\nMillions are on the brink of eviction. Give too little and they’re devastated. Give “too much” and a single mom might save for a rainy day. This isn’t hard. https://t.co/o14r3phJeH  \n",
       "18                            Imagine being a policymaker in Washington, having witnessed the massive economic, social, and health destruction over the last year, and think that the greatest policy risk we face is providing *too much* relief.\\n\\nSounds silly, right?\\n\\n$1.9T should be a floor, not a ceiling.  \n",
       "19                                                                                                                                                    @AndrewYang @TweetBenMax @RitchieTorres Thanks @AndrewYang! Happy to chat about the plan details and the community effort that’s gone into this legislation. 🌃🌎  "
      ]
     },
     "execution_count": 15,
     "metadata": {},
     "output_type": "execute_result"
    }
   ],
   "source": [
    "pd.set_option('display.max_colwidth', None)\n",
    "df = pd.DataFrame({\"OpenAI\": open_ai_answers, \n",
    "                   \"Vicuna\": vicuna_answers,\n",
    "                   \"Text\": tweets['full_text'].head(20)})\n",
    "df[\"OpenAI\"] = df[\"OpenAI\"].str.contains(\"Y\")\n",
    "df[\"Vicuna\"] = df[\"Vicuna\"].str.contains(\"Y\")\n",
    "df"
   ]
  },
  {
   "cell_type": "code",
   "execution_count": 18,
   "id": "bf7a4abe-d72d-4310-b297-21cca5f3e86a",
   "metadata": {
    "tags": []
   },
   "outputs": [
    {
     "data": {
      "text/html": [
       "<div>\n",
       "<style scoped>\n",
       "    .dataframe tbody tr th:only-of-type {\n",
       "        vertical-align: middle;\n",
       "    }\n",
       "\n",
       "    .dataframe tbody tr th {\n",
       "        vertical-align: top;\n",
       "    }\n",
       "\n",
       "    .dataframe thead th {\n",
       "        text-align: right;\n",
       "    }\n",
       "</style>\n",
       "<table border=\"1\" class=\"dataframe\">\n",
       "  <thead>\n",
       "    <tr style=\"text-align: right;\">\n",
       "      <th></th>\n",
       "      <th>OpenAI</th>\n",
       "      <th>Text</th>\n",
       "    </tr>\n",
       "  </thead>\n",
       "  <tbody>\n",
       "    <tr>\n",
       "      <th>0</th>\n",
       "      <td>False</td>\n",
       "      <td>RT @RepEscobar: Our country has the moral obligation and responsibility to reunite every single family separated at the southern border.\\n\\nT…</td>\n",
       "    </tr>\n",
       "    <tr>\n",
       "      <th>1</th>\n",
       "      <td>False</td>\n",
       "      <td>RT @RoKhanna: What happens when we guarantee $15/hour?\\n\\n💰 31% of Black workers and 26% of Latinx workers get raises.\\n😷 A majority of essent…</td>\n",
       "    </tr>\n",
       "    <tr>\n",
       "      <th>2</th>\n",
       "      <td>False</td>\n",
       "      <td>(Source: https://t.co/3o5JEr6zpd)</td>\n",
       "    </tr>\n",
       "    <tr>\n",
       "      <th>3</th>\n",
       "      <td>False</td>\n",
       "      <td>Joe Cunningham pledged to never take corporate PAC money, and he never did. Mace said she’ll cash every check she gets. Yet another way this is a downgrade. https://t.co/DytsQXKXgU</td>\n",
       "    </tr>\n",
       "    <tr>\n",
       "      <th>4</th>\n",
       "      <td>True</td>\n",
       "      <td>What’s even more gross is that Mace takes corporate PAC money.\\n\\nShe’s already funded by corporations. Now she’s choosing to swindle working people on top of it.\\n\\nPeak scam artistry. Caps for cash 💰 https://t.co/CcVxgDF6id</td>\n",
       "    </tr>\n",
       "    <tr>\n",
       "      <th>5</th>\n",
       "      <td>True</td>\n",
       "      <td>Joe Cunningham already proving to be leagues more decent + honest than Mace seems capable of.\\n\\nThe House was far better off w/ Cunningham. It’s sad to see Mace diminish the representation of her community by launching a reputation of craven dishonesty right off the bat.</td>\n",
       "    </tr>\n",
       "    <tr>\n",
       "      <th>6</th>\n",
       "      <td>True</td>\n",
       "      <td>Pretty horrible.\\n\\nWell, it’s good to know what kind of person she is early. Also good to know that Mace is cut from the same Trump cloth of dishonesty and opportunism.\\n\\nSad to see a colleague intentionally hurt other women and survivors to make a buck. Thought she’d be better. https://t.co/CcVxgDF6id</td>\n",
       "    </tr>\n",
       "    <tr>\n",
       "      <th>7</th>\n",
       "      <td>True</td>\n",
       "      <td>RT @jaketapper: .@RepNancyMace fundraising off the false smear that @AOC misrepresented her experience during the insurrection. She didn’t.…</td>\n",
       "    </tr>\n",
       "    <tr>\n",
       "      <th>8</th>\n",
       "      <td>False</td>\n",
       "      <td>RT @RepMcGovern: One reason Washington can’t “come together” is because of people like her sending out emails like this.\\n\\nShe should apolog…</td>\n",
       "    </tr>\n",
       "    <tr>\n",
       "      <th>9</th>\n",
       "      <td>False</td>\n",
       "      <td>RT @JoeNeguse: Just to be clear, “targeting” stimulus checks means denying them to some working families who would otherwise receive them.</td>\n",
       "    </tr>\n",
       "    <tr>\n",
       "      <th>10</th>\n",
       "      <td>False</td>\n",
       "      <td>Amazon workers have the right to form a union.\\n\\nAnti-union tactics like these, especially from a trillion-dollar company trying to disrupt essential workers from organizing for better wages and dignified working conditions in a pandemic, are wrong. https://t.co/nTDqMUapYs</td>\n",
       "    </tr>\n",
       "    <tr>\n",
       "      <th>11</th>\n",
       "      <td>False</td>\n",
       "      <td>RT @WorkingFamilies: Voters elected Democrats to deliver more relief, not less.</td>\n",
       "    </tr>\n",
       "    <tr>\n",
       "      <th>12</th>\n",
       "      <td>False</td>\n",
       "      <td>We should preserve what was there and not peg it to outdated 2019 income. People need help!</td>\n",
       "    </tr>\n",
       "    <tr>\n",
       "      <th>13</th>\n",
       "      <td>False</td>\n",
       "      <td>If conservative Senate Dems institute a lower income threshold in the next round of checks, that could potentially mean the first round of checks under Trump help more people than the first round under Biden.\\n\\nDo we want to do that? No? Then let’s stop playing &amp;amp; just help people.</td>\n",
       "    </tr>\n",
       "    <tr>\n",
       "      <th>14</th>\n",
       "      <td>False</td>\n",
       "      <td>@iamjoshfitz 😂 call your member of Congress, they can help track it down</td>\n",
       "    </tr>\n",
       "    <tr>\n",
       "      <th>15</th>\n",
       "      <td>True</td>\n",
       "      <td>All Dems need for the slam dunk is to do what people elected us to do: help as many people as possible.\\n\\nIt’s not hard. Let’s not screw it up with austerity nonsense that squeezes the working class yet never makes a peep when tax cuts for yachts and private jets are proposed.</td>\n",
       "    </tr>\n",
       "    <tr>\n",
       "      <th>16</th>\n",
       "      <td>False</td>\n",
       "      <td>It should be $2000 to begin w/ anyway. Brutally means-testing a $1400 round is going to hurt so many people. THAT is the risk we can’t afford.\\n\\nIncome thresholds already work in reverse &amp;amp; lag behind reality. Conservative Dems can ask to tax $ back later if they’re so concerned.</td>\n",
       "    </tr>\n",
       "    <tr>\n",
       "      <th>17</th>\n",
       "      <td>False</td>\n",
       "      <td>We cannot cut off relief at $50k. It is shockingly out of touch to assert that $50k is “too wealthy” to receive relief.\\n\\nMillions are on the brink of eviction. Give too little and they’re devastated. Give “too much” and a single mom might save for a rainy day. This isn’t hard. https://t.co/o14r3phJeH</td>\n",
       "    </tr>\n",
       "    <tr>\n",
       "      <th>18</th>\n",
       "      <td>False</td>\n",
       "      <td>Imagine being a policymaker in Washington, having witnessed the massive economic, social, and health destruction over the last year, and think that the greatest policy risk we face is providing *too much* relief.\\n\\nSounds silly, right?\\n\\n$1.9T should be a floor, not a ceiling.</td>\n",
       "    </tr>\n",
       "    <tr>\n",
       "      <th>19</th>\n",
       "      <td>True</td>\n",
       "      <td>@AndrewYang @TweetBenMax @RitchieTorres Thanks @AndrewYang! Happy to chat about the plan details and the community effort that’s gone into this legislation. 🌃🌎</td>\n",
       "    </tr>\n",
       "  </tbody>\n",
       "</table>\n",
       "</div>"
      ],
      "text/plain": [
       "    OpenAI  \\\n",
       "0    False   \n",
       "1    False   \n",
       "2    False   \n",
       "3    False   \n",
       "4     True   \n",
       "5     True   \n",
       "6     True   \n",
       "7     True   \n",
       "8    False   \n",
       "9    False   \n",
       "10   False   \n",
       "11   False   \n",
       "12   False   \n",
       "13   False   \n",
       "14   False   \n",
       "15    True   \n",
       "16   False   \n",
       "17   False   \n",
       "18   False   \n",
       "19    True   \n",
       "\n",
       "                                                                                                                                                                                                                                                                                                                 Text  \n",
       "0                                                                                                                                                                      RT @RepEscobar: Our country has the moral obligation and responsibility to reunite every single family separated at the southern border.\\n\\nT…  \n",
       "1                                                                                                                                                                     RT @RoKhanna: What happens when we guarantee $15/hour?\\n\\n💰 31% of Black workers and 26% of Latinx workers get raises.\\n😷 A majority of essent…  \n",
       "2                                                                                                                                                                                                                                                                                   (Source: https://t.co/3o5JEr6zpd)  \n",
       "3                                                                                                                                Joe Cunningham pledged to never take corporate PAC money, and he never did. Mace said she’ll cash every check she gets. Yet another way this is a downgrade. https://t.co/DytsQXKXgU  \n",
       "4                                                                                   What’s even more gross is that Mace takes corporate PAC money.\\n\\nShe’s already funded by corporations. Now she’s choosing to swindle working people on top of it.\\n\\nPeak scam artistry. Caps for cash 💰 https://t.co/CcVxgDF6id  \n",
       "5                                    Joe Cunningham already proving to be leagues more decent + honest than Mace seems capable of.\\n\\nThe House was far better off w/ Cunningham. It’s sad to see Mace diminish the representation of her community by launching a reputation of craven dishonesty right off the bat.  \n",
       "6   Pretty horrible.\\n\\nWell, it’s good to know what kind of person she is early. Also good to know that Mace is cut from the same Trump cloth of dishonesty and opportunism.\\n\\nSad to see a colleague intentionally hurt other women and survivors to make a buck. Thought she’d be better. https://t.co/CcVxgDF6id  \n",
       "7                                                                                                                                                                        RT @jaketapper: .@RepNancyMace fundraising off the false smear that @AOC misrepresented her experience during the insurrection. She didn’t.…  \n",
       "8                                                                                                                                                                      RT @RepMcGovern: One reason Washington can’t “come together” is because of people like her sending out emails like this.\\n\\nShe should apolog…  \n",
       "9                                                                                                                                                                          RT @JoeNeguse: Just to be clear, “targeting” stimulus checks means denying them to some working families who would otherwise receive them.  \n",
       "10                                 Amazon workers have the right to form a union.\\n\\nAnti-union tactics like these, especially from a trillion-dollar company trying to disrupt essential workers from organizing for better wages and dignified working conditions in a pandemic, are wrong. https://t.co/nTDqMUapYs  \n",
       "11                                                                                                                                                                                                                                    RT @WorkingFamilies: Voters elected Democrats to deliver more relief, not less.  \n",
       "12                                                                                                                                                                                                                        We should preserve what was there and not peg it to outdated 2019 income. People need help!  \n",
       "13                     If conservative Senate Dems institute a lower income threshold in the next round of checks, that could potentially mean the first round of checks under Trump help more people than the first round under Biden.\\n\\nDo we want to do that? No? Then let’s stop playing &amp; just help people.  \n",
       "14                                                                                                                                                                                                                                           @iamjoshfitz 😂 call your member of Congress, they can help track it down  \n",
       "15                             All Dems need for the slam dunk is to do what people elected us to do: help as many people as possible.\\n\\nIt’s not hard. Let’s not screw it up with austerity nonsense that squeezes the working class yet never makes a peep when tax cuts for yachts and private jets are proposed.  \n",
       "16                       It should be $2000 to begin w/ anyway. Brutally means-testing a $1400 round is going to hurt so many people. THAT is the risk we can’t afford.\\n\\nIncome thresholds already work in reverse &amp; lag behind reality. Conservative Dems can ask to tax $ back later if they’re so concerned.  \n",
       "17    We cannot cut off relief at $50k. It is shockingly out of touch to assert that $50k is “too wealthy” to receive relief.\\n\\nMillions are on the brink of eviction. Give too little and they’re devastated. Give “too much” and a single mom might save for a rainy day. This isn’t hard. https://t.co/o14r3phJeH  \n",
       "18                            Imagine being a policymaker in Washington, having witnessed the massive economic, social, and health destruction over the last year, and think that the greatest policy risk we face is providing *too much* relief.\\n\\nSounds silly, right?\\n\\n$1.9T should be a floor, not a ceiling.  \n",
       "19                                                                                                                                                    @AndrewYang @TweetBenMax @RitchieTorres Thanks @AndrewYang! Happy to chat about the plan details and the community effort that’s gone into this legislation. 🌃🌎  "
      ]
     },
     "execution_count": 18,
     "metadata": {},
     "output_type": "execute_result"
    }
   ],
   "source": [
    "prompt = \"\"\"\n",
    "Is the following text self promoting? You should answer either Yes or No.\n",
    "\n",
    "{text}\n",
    "\n",
    "Answer:\n",
    "\"\"\"\n",
    "questions = [prompt.format_map(dict(text=t)) for t in tweets['full_text'].head(20)]\n",
    "open_ai_answers2 = llm.batch(questions)\n",
    "df2 = pd.DataFrame({\"OpenAI\": open_ai_answers2, \n",
    "                   \"Text\": tweets['full_text'].head(20)})\n",
    "df2[\"OpenAI\"] = df2[\"OpenAI\"].str.contains(\"Y\")\n",
    "df2"
   ]
  },
  {
   "cell_type": "code",
   "execution_count": null,
   "id": "142a187a-66c3-4839-8fcb-5f51a80a7bbb",
   "metadata": {},
   "outputs": [],
   "source": []
  }
 ],
 "metadata": {
  "kernelspec": {
   "display_name": "Python 3 (ipykernel)",
   "language": "python",
   "name": "python3"
  },
  "language_info": {
   "codemirror_mode": {
    "name": "ipython",
    "version": 3
   },
   "file_extension": ".py",
   "mimetype": "text/x-python",
   "name": "python",
   "nbconvert_exporter": "python",
   "pygments_lexer": "ipython3",
   "version": "3.11.7"
  }
 },
 "nbformat": 4,
 "nbformat_minor": 5
}
